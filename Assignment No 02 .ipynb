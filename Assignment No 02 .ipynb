{
 "cells": [
  {
   "cell_type": "code",
   "execution_count": 1,
   "metadata": {},
   "outputs": [
    {
     "name": "stdout",
     "output_type": "stream",
     "text": [
      "Enter your marks of English  78\n",
      "Enter your marks of Urdu  90\n",
      "Enter your marks of Sindhi  76\n",
      "Enter your marks of Punjabi  67\n",
      "Enter your marks of Balochi  98\n",
      "\n",
      " Total_obtian Marks:  409\n",
      "\n",
      " avg of all subjects:  81.8\n",
      "\n",
      " your Grade A+\n"
     ]
    }
   ],
   "source": [
    "## Write a program which takes 5 inputs from user for different subject’s marks, total it and generate mark sheet using grades ?\n",
    "english=int(input(\"Enter your marks of English  \"));\n",
    "urdu= int(input(\"Enter your marks of Urdu  \"));\n",
    "sindhi= int(input(\"Enter your marks of Sindhi  \"));\n",
    "punjabi= int(input(\"Enter your marks of Punjabi  \"));\n",
    "balochi= int(input(\"Enter your marks of Balochi  \"));\n",
    "total_obtain=(english+urdu+sindhi+punjabi+balochi);\n",
    "print(\"\\n Total_obtian Marks: \", total_obtain);\n",
    "avg=(total_obtain*100)/500\n",
    "print(\"\\n avg of all subjects: \", avg);\n",
    "if avg >= 80 and avg <=100:\n",
    "    print(\"\\n your Grade A+\")\n",
    "elif avg >= 70 and avg <=80:\n",
    "    print(\"\\n your Grade A\") \n",
    "elif avg >= 60 and avg <=70:\n",
    "    print(\"\\n your Grade B\")\n",
    "elif avg >= 50 and avg <=60:\n",
    "    print(\"\\n your Grade C\") \n",
    "elif avg >= 40 and avg <=50:\n",
    "    print(\"\\n your Grade D\")\n",
    "elif avg >= 33 and avg <=40:\n",
    "    print(\"\\n your Grade E\")\n",
    "elif avg >= 0 and avg <=33:\n",
    "    print(\"Sorry you are Fail\") \n",
    "else:\n",
    "    print(\"your percenatge is inappropriate\")"
   ]
  },
  {
   "cell_type": "code",
   "execution_count": 2,
   "metadata": {},
   "outputs": [
    {
     "name": "stdout",
     "output_type": "stream",
     "text": [
      " Enter number: 67890\n",
      "67890 is even number\n"
     ]
    }
   ],
   "source": [
    "## Write a program which take input from user and identify that the given number is even or odd? \n",
    "number=int(input(\" Enter number: \"));\n",
    "if (number%2==0):\n",
    "    print(number, \"is even number\")\n",
    "else:\n",
    "    print(number, \"is odd number\")"
   ]
  },
  {
   "cell_type": "code",
   "execution_count": 3,
   "metadata": {},
   "outputs": [
    {
     "name": "stdout",
     "output_type": "stream",
     "text": [
      "11\n"
     ]
    }
   ],
   "source": [
    "## Write a program which print the length of the list? \n",
    "list_natural_numbers = [0, 1, 2, 3, 4, 5, 6, 7, 8, 9, 10]\n",
    "list_length = len (list_natural_numbers)\n",
    "print(list_length)"
   ]
  },
  {
   "cell_type": "code",
   "execution_count": 4,
   "metadata": {},
   "outputs": [
    {
     "name": "stdout",
     "output_type": "stream",
     "text": [
      "55\n"
     ]
    }
   ],
   "source": [
    "## Write a Python program to sum all the numeric items in a list? \n",
    "list_natural_numbers = [0, 1, 2, 3, 4, 5, 6, 7, 8, 9, 10]\n",
    "total = sum (list_natural_numbers)\n",
    "print(total)"
   ]
  },
  {
   "cell_type": "code",
   "execution_count": 6,
   "metadata": {},
   "outputs": [
    {
     "name": "stdout",
     "output_type": "stream",
     "text": [
      "Enter your number:6\n",
      "Enter number:789\n",
      "Enter number:879\n",
      "Enter number:978\n",
      "Enter number:678\n",
      "Enter number:567\n",
      "Enter number:980\n",
      "largest number is: 980\n"
     ]
    }
   ],
   "source": [
    "## Write a Python program to get the largest number from a numeric list. \n",
    "a=[]\n",
    "n=int(input(\"Enter your number:\"))\n",
    "for i in range (1,n+1):\n",
    "    b=int(input(\"Enter number:\"))\n",
    "    a.append(b)\n",
    "a.sort()\n",
    "print(\"largest number is:\",a[n-1])"
   ]
  },
  {
   "cell_type": "code",
   "execution_count": 7,
   "metadata": {},
   "outputs": [
    {
     "name": "stdout",
     "output_type": "stream",
     "text": [
      "1\n",
      "1\n",
      "2\n",
      "3\n"
     ]
    }
   ],
   "source": [
    "## Take a list, say for example this one: \n",
    "## a = [1, 1, 2, 3, 5, 8, 13, 21, 34, 55, 89] \n",
    " ## and write a program that prints out all the elements of the list that are less than 5.\n",
    "arr = [1, 1, 2, 3, 5, 8, 13, 21, 34, 55, 89] \n",
    "for i in arr:\n",
    "    if i <5:\n",
    "        print(i)"
   ]
  }
 ],
 "metadata": {
  "kernelspec": {
   "display_name": "Python 3",
   "language": "python",
   "name": "python3"
  },
  "language_info": {
   "codemirror_mode": {
    "name": "ipython",
    "version": 3
   },
   "file_extension": ".py",
   "mimetype": "text/x-python",
   "name": "python",
   "nbconvert_exporter": "python",
   "pygments_lexer": "ipython3",
   "version": "3.7.4"
  }
 },
 "nbformat": 4,
 "nbformat_minor": 2
}
